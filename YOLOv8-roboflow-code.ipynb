{
 "cells": [
  {
   "cell_type": "code",
   "execution_count": 1,
   "metadata": {
    "colab": {
     "base_uri": "https://localhost:8080/",
     "height": 1000
    },
    "executionInfo": {
     "elapsed": 11798,
     "status": "ok",
     "timestamp": 1687479935951,
     "user": {
      "displayName": "Zufeshan Imran",
      "userId": "01352305454183338312"
     },
     "user_tz": 420
    },
    "id": "ZTmhq2nlo4h_",
    "outputId": "1d039e7d-c507-4c73-b5f7-f85e0590f22e"
   },
   "outputs": [
    {
     "name": "stdout",
     "output_type": "stream",
     "text": [
      "Looking in indexes: https://pypi.org/simple, https://us-python.pkg.dev/colab-wheels/public/simple/\n",
      "Collecting roboflow\n",
      "  Downloading roboflow-1.1.0-py3-none-any.whl (57 kB)\n",
      "\u001b[2K     \u001b[90m━━━━━━━━━━━━━━━━━━━━━━━━━━━━━━━━━━━━━━━━\u001b[0m \u001b[32m57.0/57.0 kB\u001b[0m \u001b[31m4.2 MB/s\u001b[0m eta \u001b[36m0:00:00\u001b[0m\n",
      "\u001b[?25hRequirement already satisfied: certifi==2022.12.7 in /usr/local/lib/python3.10/dist-packages (from roboflow) (2022.12.7)\n",
      "Requirement already satisfied: chardet==4.0.0 in /usr/local/lib/python3.10/dist-packages (from roboflow) (4.0.0)\n",
      "Collecting cycler==0.10.0 (from roboflow)\n",
      "  Downloading cycler-0.10.0-py2.py3-none-any.whl (6.5 kB)\n",
      "Collecting idna==2.10 (from roboflow)\n",
      "  Downloading idna-2.10-py2.py3-none-any.whl (58 kB)\n",
      "\u001b[2K     \u001b[90m━━━━━━━━━━━━━━━━━━━━━━━━━━━━━━━━━━━━━━━━\u001b[0m \u001b[32m58.8/58.8 kB\u001b[0m \u001b[31m7.3 MB/s\u001b[0m eta \u001b[36m0:00:00\u001b[0m\n",
      "\u001b[?25hRequirement already satisfied: kiwisolver>=1.3.1 in /usr/local/lib/python3.10/dist-packages (from roboflow) (1.4.4)\n",
      "Requirement already satisfied: matplotlib in /usr/local/lib/python3.10/dist-packages (from roboflow) (3.7.1)\n",
      "Requirement already satisfied: numpy>=1.18.5 in /usr/local/lib/python3.10/dist-packages (from roboflow) (1.22.4)\n",
      "Requirement already satisfied: opencv-python>=4.1.2 in /usr/local/lib/python3.10/dist-packages (from roboflow) (4.7.0.72)\n",
      "Requirement already satisfied: Pillow>=7.1.2 in /usr/local/lib/python3.10/dist-packages (from roboflow) (8.4.0)\n",
      "Collecting pyparsing==2.4.7 (from roboflow)\n",
      "  Downloading pyparsing-2.4.7-py2.py3-none-any.whl (67 kB)\n",
      "\u001b[2K     \u001b[90m━━━━━━━━━━━━━━━━━━━━━━━━━━━━━━━━━━━━━━━━\u001b[0m \u001b[32m67.8/67.8 kB\u001b[0m \u001b[31m10.2 MB/s\u001b[0m eta \u001b[36m0:00:00\u001b[0m\n",
      "\u001b[?25hRequirement already satisfied: python-dateutil in /usr/local/lib/python3.10/dist-packages (from roboflow) (2.8.2)\n",
      "Collecting python-dotenv (from roboflow)\n",
      "  Downloading python_dotenv-1.0.0-py3-none-any.whl (19 kB)\n",
      "Requirement already satisfied: requests in /usr/local/lib/python3.10/dist-packages (from roboflow) (2.27.1)\n",
      "Requirement already satisfied: six in /usr/local/lib/python3.10/dist-packages (from roboflow) (1.16.0)\n",
      "Collecting supervision (from roboflow)\n",
      "  Downloading supervision-0.10.0-py3-none-any.whl (48 kB)\n",
      "\u001b[2K     \u001b[90m━━━━━━━━━━━━━━━━━━━━━━━━━━━━━━━━━━━━━━━━\u001b[0m \u001b[32m48.9/48.9 kB\u001b[0m \u001b[31m5.6 MB/s\u001b[0m eta \u001b[36m0:00:00\u001b[0m\n",
      "\u001b[?25hRequirement already satisfied: urllib3>=1.26.6 in /usr/local/lib/python3.10/dist-packages (from roboflow) (1.26.15)\n",
      "Collecting wget (from roboflow)\n",
      "  Downloading wget-3.2.zip (10 kB)\n",
      "  Preparing metadata (setup.py) ... \u001b[?25l\u001b[?25hdone\n",
      "Requirement already satisfied: tqdm>=4.41.0 in /usr/local/lib/python3.10/dist-packages (from roboflow) (4.65.0)\n",
      "Requirement already satisfied: PyYAML>=5.3.1 in /usr/local/lib/python3.10/dist-packages (from roboflow) (6.0)\n",
      "Collecting requests-toolbelt (from roboflow)\n",
      "  Downloading requests_toolbelt-1.0.0-py2.py3-none-any.whl (54 kB)\n",
      "\u001b[2K     \u001b[90m━━━━━━━━━━━━━━━━━━━━━━━━━━━━━━━━━━━━━━━━\u001b[0m \u001b[32m54.5/54.5 kB\u001b[0m \u001b[31m7.4 MB/s\u001b[0m eta \u001b[36m0:00:00\u001b[0m\n",
      "\u001b[?25hRequirement already satisfied: contourpy>=1.0.1 in /usr/local/lib/python3.10/dist-packages (from matplotlib->roboflow) (1.0.7)\n",
      "Requirement already satisfied: fonttools>=4.22.0 in /usr/local/lib/python3.10/dist-packages (from matplotlib->roboflow) (4.39.3)\n",
      "Requirement already satisfied: packaging>=20.0 in /usr/local/lib/python3.10/dist-packages (from matplotlib->roboflow) (23.1)\n",
      "Requirement already satisfied: charset-normalizer~=2.0.0 in /usr/local/lib/python3.10/dist-packages (from requests->roboflow) (2.0.12)\n",
      "Building wheels for collected packages: wget\n",
      "  Building wheel for wget (setup.py) ... \u001b[?25l\u001b[?25hdone\n",
      "  Created wheel for wget: filename=wget-3.2-py3-none-any.whl size=9657 sha256=e7248ec04d3149e2f229e6a84f3ad1c81c2802124ae79764fc0894542ca4c88c\n",
      "  Stored in directory: /root/.cache/pip/wheels/8b/f1/7f/5c94f0a7a505ca1c81cd1d9208ae2064675d97582078e6c769\n",
      "Successfully built wget\n",
      "Installing collected packages: wget, python-dotenv, pyparsing, idna, cycler, supervision, requests-toolbelt, roboflow\n",
      "  Attempting uninstall: pyparsing\n",
      "    Found existing installation: pyparsing 3.0.9\n",
      "    Uninstalling pyparsing-3.0.9:\n",
      "      Successfully uninstalled pyparsing-3.0.9\n",
      "  Attempting uninstall: idna\n",
      "    Found existing installation: idna 3.4\n",
      "    Uninstalling idna-3.4:\n",
      "      Successfully uninstalled idna-3.4\n",
      "  Attempting uninstall: cycler\n",
      "    Found existing installation: cycler 0.11.0\n",
      "    Uninstalling cycler-0.11.0:\n",
      "      Successfully uninstalled cycler-0.11.0\n",
      "Successfully installed cycler-0.10.0 idna-2.10 pyparsing-2.4.7 python-dotenv-1.0.0 requests-toolbelt-1.0.0 roboflow-1.1.0 supervision-0.10.0 wget-3.2\n"
     ]
    },
    {
     "data": {
      "application/vnd.colab-display-data+json": {
       "pip_warning": {
        "packages": [
         "cycler",
         "pyparsing"
        ]
       }
      }
     },
     "metadata": {},
     "output_type": "display_data"
    }
   ],
   "source": [
    "!pip install roboflow"
   ]
  },
  {
   "cell_type": "code",
   "execution_count": 159,
   "metadata": {
    "executionInfo": {
     "elapsed": 270,
     "status": "ok",
     "timestamp": 1687492316902,
     "user": {
      "displayName": "Zufeshan Imran",
      "userId": "01352305454183338312"
     },
     "user_tz": 420
    },
    "id": "kTPGjzAF2Vp0"
   },
   "outputs": [],
   "source": [
    "#try reading images one by one\n",
    "import os\n",
    "import shutil\n",
    "import numpy as np\n",
    "import pandas as pd\n",
    "import json\n",
    "import re\n",
    "from roboflow import Roboflow\n",
    "\n",
    "def cleanup():\n",
    "    pattern = r\"results\\w+\"\n",
    "    # If file exists, delete it.\n",
    "    for f in os.listdir(dir):\n",
    "        if re.search(pattern, f):\n",
    "            os.remove(os.path.join(dir, f))\n",
    "    if os.path.exists(pred_dir):\n",
    "        #remove if exists\n",
    "        shutil.rmtree(pred_dir)\n",
    "    #create folder to save predictions\n",
    "    os.mkdir(pred_dir)\n",
    "\n",
    "\n",
    "\n",
    "#initialize vehicle detection model using your api_key\n",
    "def initialize(api_key):\n",
    "\n",
    "    rf = Roboflow(api_key=api_key)\n",
    "    project = rf.workspace().project(\"vehicle-detection-gr77r\")\n",
    "    model = project.version(1).model\n",
    "\n",
    "#make predictions and save dimensions of bbox\n",
    "def predict(confidence=30,overlap=30,image_dir=dir):\n",
    "    pred_dir = image_dir+'/predictions'\n",
    "    results = []\n",
    "    confidences = []\n",
    "    x_dim,y_dim = [],[]\n",
    "    width,height = [],[]\n",
    "    images = []\n",
    "\n",
    "    #cleanup folder to remove results from past run\n",
    "    cleanup()\n",
    "\n",
    "    #call initialize to download model\n",
    "    initialize(api_key=api_key)\n",
    "\n",
    "    for filename in os.listdir(dir):\n",
    "        if filename.endswith('JPG'):\n",
    "            image = os.path.join(image_dir,filename)\n",
    "            images.append(image)\n",
    "            #choose confidence and overlap\n",
    "            result = model.predict(image_path=image, confidence=confidence, overlap=overlap)\n",
    "\n",
    "            #save predicted image with bounding box inside predictions folder\n",
    "            result.save(f\"{pred_dir}/{filename}\")\n",
    "\n",
    "            #save detected object's dimensions in each image\n",
    "            x_dim.append([item['x'] for item in result.json()['predictions']])\n",
    "            y_dim.append([item['y'] for item in result.json()['predictions']])\n",
    "            width.append([item['width'] for item in result.json()['predictions']])\n",
    "            height.append([item['height'] for item in result.json()['predictions']])\n",
    "            results.append(result.json())\n",
    "            try:\n",
    "                confidences.append(max(item['confidence'] for item in result.json()['predictions']))\n",
    "            except ValueError:\n",
    "                confidences.append(0)\n",
    "\n",
    "    #create dataframe of bbox dimensions\n",
    "    pred_df = pd.DataFrame({'x':x_dim,\n",
    "                            'y':y_dim,\n",
    "                            'width':width,\n",
    "                            'height':height,\n",
    "                            'max_confidence':confidences,\n",
    "                            'image_path':images})\n",
    "    return pred_df,results\n",
    "\n",
    "#output to csv and json\n",
    "def output(df,results):\n",
    "    df.to_csv(os.path.join(dir,\"results.csv\"))\n",
    "    with open(os.path.join(dir,\"results.json\"), 'w') as outfile:\n",
    "        json.dump(results, outfile)\n"
   ]
  },
  {
   "cell_type": "code",
   "execution_count": 160,
   "metadata": {
    "colab": {
     "base_uri": "https://localhost:8080/"
    },
    "executionInfo": {
     "elapsed": 22233,
     "status": "ok",
     "timestamp": 1687492348780,
     "user": {
      "displayName": "Zufeshan Imran",
      "userId": "01352305454183338312"
     },
     "user_tz": 420
    },
    "id": "3H8JMgtg-PNK",
    "outputId": "60997e5f-6bcd-4d87-9465-80bb06542804"
   },
   "outputs": [
    {
     "name": "stdout",
     "output_type": "stream",
     "text": [
      "loading Roboflow workspace...\n",
      "loading Roboflow project...\n"
     ]
    }
   ],
   "source": [
    "#public_api_key=\"rf_KqTy7Mm6aXchNmgfUXw8hax6H9s1\"\n",
    "api_key=\"rGuyuyi8JwnnGmsPlUgE\"\n",
    "dir = '/content/drive/MyDrive/soter_imgs'\n",
    "\n",
    "df,results = predict(image_dir=dir)\n",
    "\n",
    "#write csv and json format outputs\n",
    "#creates results.csv , results.json within specified folder\n",
    "output(df,results)"
   ]
  },
  {
   "cell_type": "code",
   "execution_count": null,
   "metadata": {
    "id": "aHnawO7DyPMq"
   },
   "outputs": [],
   "source": []
  }
 ],
 "metadata": {
  "colab": {
   "authorship_tag": "ABX9TyNZ300aHlwHjCVGeBNuwavW",
   "mount_file_id": "1Iq6VhS7uKqzRX4vtn-aRN1Y4M9JS1q0w",
   "provenance": []
  },
  "kernelspec": {
   "display_name": "Python 3 (ipykernel)",
   "language": "python",
   "name": "python3"
  },
  "language_info": {
   "codemirror_mode": {
    "name": "ipython",
    "version": 3
   },
   "file_extension": ".py",
   "mimetype": "text/x-python",
   "name": "python",
   "nbconvert_exporter": "python",
   "pygments_lexer": "ipython3",
   "version": "3.10.11"
  }
 },
 "nbformat": 4,
 "nbformat_minor": 4
}
